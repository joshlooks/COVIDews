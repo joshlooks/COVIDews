{
 "cells": [
  {
   "cell_type": "code",
   "execution_count": 1,
   "metadata": {},
   "outputs": [],
   "source": [
    "# Import statements\n",
    "import pandas as pd\n",
    "import numpy as np\n",
    "from matplotlib import pyplot as plt\n",
    "from statsmodels.tsa.stattools import acf"
   ]
  },
  {
   "cell_type": "code",
   "execution_count": 2,
   "metadata": {},
   "outputs": [],
   "source": [
    "# Preprocessing case data\n",
    "cases21 = pd.read_csv('Data/newCasesPCROnlyBySpecimenDate_ltla_2021.csv')\n",
    "cases21 = cases21[['date','area_code','area_name','value']]\n",
    "cases20 = pd.read_csv('Data/newCasesPCROnlyBySpecimenDate_ltla_2020.csv')\n",
    "cases20 = cases20[['date','area_code','area_name','value']]\n",
    "cases20_additional = pd.read_csv('Data/ltla_2023-12-14 (1).csv')\n",
    "cases20_additional.rename(columns={'newCasesBySpecimenDate':'value','areaCode':'area_code','areaName':'area_name'},inplace=True)\n",
    "cases20_additional.drop(columns=['areaType','cumCasesBySpecimenDate','cumCasesBySpecimenDateRate'],inplace=True)\n",
    "cases20_additional = cases20_additional[cases20_additional['area_name'].isin(cases20['area_name'].values)]\n",
    "cases20_additional['date'] = pd.to_datetime(cases20_additional['date'])\n",
    "cases20_additional = cases20_additional[cases20_additional['date'] < '2020-11-01']\n",
    "cases20_additional = cases20_additional[cases20_additional['date'] >= '2020-10-01']\n",
    "cases20 = pd.concat([cases20,cases20_additional]).sort_index()\n",
    "pop = pd.read_csv('Data/census_estimate.csv')\n",
    "# Rename columns and take weekly incidence instead of daily\n",
    "cases = pd.concat([cases20,cases21])\n",
    "cases['date'] = pd.to_datetime(cases['date'])\n",
    "cases.set_index('date', inplace=True)\n",
    "cases.sort_index(inplace=True)\n",
    "weekly_counts_total = cases.groupby(['area_code','area_name']).rolling(7).sum().reset_index()\n",
    "# Convert incidence to a proportion to allow for cross-LTLA comparison\n",
    "weekly_counts_total = pd.merge(weekly_counts_total,pop,on='area_code')\n",
    "weekly_counts_total['incidence'] = weekly_counts_total['value'] / weekly_counts_total['population']"
   ]
  },
  {
   "cell_type": "code",
   "execution_count": 3,
   "metadata": {},
   "outputs": [],
   "source": [
    "# Add in the ITL regions for spatial detrending\n",
    "npis = pd.read_csv('Data/England_LTLA_NHSER.csv')\n",
    "npis = npis[['NHSER_name','LTLA_name']]\n",
    "npis.rename(columns={'NHSER_name':'region','LTLA_name':'ltla20nm'},inplace=True)\n",
    "npis.drop_duplicates(inplace=True)\n",
    "\n",
    "manual_dat = pd.DataFrame({'ltla20nm': ['Wycombe','South Bucks','Chiltern','Aylesbury Vale','Cornwall and Isles of Scilly', 'Hackney and City of London'], \\\n",
    "                           'region': ['South East', 'South East', 'South East', 'South East', 'South West', 'London']})\n",
    "npis = pd.concat([npis,manual_dat])"
   ]
  },
  {
   "cell_type": "code",
   "execution_count": 4,
   "metadata": {},
   "outputs": [],
   "source": [
    "# Cases with ITL regions\n",
    "cases_region = pd.merge(cases.reset_index(), npis, left_on='area_name', right_on='ltla20nm')\n",
    "cases_region.drop(columns='ltla20nm',inplace=True)"
   ]
  },
  {
   "cell_type": "code",
   "execution_count": 5,
   "metadata": {},
   "outputs": [],
   "source": [
    "# Add in the ITL regions for spatial detrending\n",
    "weekly_counts_total = pd.merge(weekly_counts_total, npis, left_on='area_name', right_on='ltla20nm')\n",
    "weekly_counts_total.drop(columns='ltla20nm',inplace=True)"
   ]
  },
  {
   "cell_type": "code",
   "execution_count": 6,
   "metadata": {},
   "outputs": [],
   "source": [
    "# Get the regional mean inicidences and spatially detrend\n",
    "regional_mean_total = weekly_counts_total.groupby(['region', 'date'])['incidence'].mean().reset_index()\n",
    "regional_mean_total.rename(columns={'incidence': 'regional_mean_incidence'}, inplace=True)\n",
    "weekly_counts_total = pd.merge(weekly_counts_total, regional_mean_total, on=['region', 'date'])\n",
    "weekly_counts_total['detrended'] = weekly_counts_total['incidence'] - weekly_counts_total['regional_mean_incidence']"
   ]
  },
  {
   "cell_type": "code",
   "execution_count": 7,
   "metadata": {},
   "outputs": [],
   "source": [
    "# Convert to wide format for ease of future calculations\n",
    "wide_data_total = weekly_counts_total.pivot(index='date', columns='area_name', values='detrended')\n",
    "wide_data_incidence = weekly_counts_total.pivot(index='date', columns='area_name', values='incidence')"
   ]
  },
  {
   "cell_type": "code",
   "execution_count": 8,
   "metadata": {},
   "outputs": [],
   "source": [
    "wide_data_incidence.to_csv('Data/wide_incidence.csv')\n",
    "wide_data_total.to_csv('Data/wide_total.csv')\n",
    "npis.to_csv('Data/ltla_to_nhs.csv')\n",
    "weekly_counts_total.to_csv('Data/weekly_total.csv')"
   ]
  },
  {
   "cell_type": "code",
   "execution_count": 9,
   "metadata": {},
   "outputs": [],
   "source": [
    "# Preprocessing hospital data\n",
    "hosps21 = pd.read_csv('Data/newAdmissions_nhsRegion_2021.csv')\n",
    "hosps20 = pd.read_csv('Data/newAdmissions_nhsRegion_2020.csv')\n",
    "hosps21 = hosps21[['date','area_code','area_name','value']]\n",
    "hosps20 = hosps20[['date','area_code','area_name','value']]\n",
    "hosps = pd.concat([hosps20,hosps21])\n",
    "hosps['date'] = pd.to_datetime(hosps['date'])\n",
    "hosps.set_index('date',inplace=True)\n",
    "hosps.sort_index(inplace=True)\n",
    "hosps_weekly = hosps.groupby(['area_code','area_name']).rolling(7).sum().reset_index()"
   ]
  },
  {
   "cell_type": "code",
   "execution_count": 10,
   "metadata": {},
   "outputs": [],
   "source": [
    "# Add in the NHS populations for normalisation\n",
    "npis = pd.read_csv('Data/England_LTLA_NHSER.csv')\n",
    "npis = npis[['NHSER_name','LTLA_name']]\n",
    "npis.rename(columns={'NHSER_name':'region','LTLA_name':'ltla20nm'},inplace=True)\n",
    "npis.drop_duplicates(inplace=True)\n",
    "pop = pd.read_csv('Data/census_estimate.csv')\n",
    "manual_dat = pd.DataFrame({'ltla20nm': ['Wycombe','South Bucks','Chiltern','Aylesbury Vale','Cornwall and Isles of Scilly', 'Hackney and City of London'], \\\n",
    "                           'region': ['South East', 'South East', 'South East', 'South East', 'South West', 'London']})\n",
    "npis = pd.concat([npis,manual_dat])\n",
    "ltla_pop = pd.read_csv('Data/newCasesPCROnlyBySpecimenDate_ltla_2020.csv')\n",
    "ltla_pop = ltla_pop[['area_code','area_name']]\n",
    "ltla_pop.drop_duplicates(inplace=True)\n",
    "ltla_pop = pd.merge(ltla_pop, npis, left_on='area_name', right_on='ltla20nm').drop(columns='ltla20nm')\n",
    "ltla_pop = pd.merge(ltla_pop, pop)\n",
    "nhs_pop = ltla_pop.groupby('region').sum().drop(columns=['area_code','area_name'])\n",
    "nhs_pop.reset_index(inplace=True)\n",
    "hosps_weekly = pd.merge(hosps_weekly,nhs_pop,left_on='area_name',right_on='region').drop(columns='region')\n",
    "hosps_weekly['incidence'] = hosps_weekly['value'] / hosps_weekly['population']"
   ]
  },
  {
   "cell_type": "code",
   "execution_count": 11,
   "metadata": {},
   "outputs": [],
   "source": [
    "# Get the national mean inicidence to spatially detrend\n",
    "national_mean_total = hosps_weekly.groupby(['date'])['incidence'].mean().reset_index()\n",
    "national_mean_total.rename(columns={'incidence': 'national_mean_incidence'}, inplace=True)\n",
    "hosps_weekly = pd.merge(hosps_weekly, national_mean_total, on='date')\n",
    "hosps_weekly['detrended'] = hosps_weekly['incidence'] - hosps_weekly['national_mean_incidence']\n",
    "# Convert to wide format for ease of future calculations\n",
    "wide_data_hosp_inc = hosps_weekly.pivot(index='date', columns='area_name', values='detrended')"
   ]
  },
  {
   "cell_type": "code",
   "execution_count": 12,
   "metadata": {},
   "outputs": [],
   "source": [
    "# Preprocessing hospital data\n",
    "hospcases21 = pd.read_csv('Data/hospitalCases_nhsRegion_2020.csv')\n",
    "hospcases20 = pd.read_csv('Data/hospitalCases_nhsRegion_2021.csv')\n",
    "hospcases21 = hospcases21[['date','area_code','area_name','value']]\n",
    "hospcases20 = hospcases20[['date','area_code','area_name','value']]\n",
    "hospcases = pd.concat([hospcases20,hospcases21])\n",
    "hospcases['date'] = pd.to_datetime(hospcases['date'])\n",
    "hospcases.set_index('date',inplace=True)\n",
    "hospcases.sort_index(inplace=True)\n",
    "hospcases_weekly = hospcases.groupby(['area_code','area_name']).rolling(7).sum().reset_index()\n",
    "\n",
    "# Add in the NHS populations for normalisation\n",
    "hospcases_weekly = pd.merge(hospcases_weekly,nhs_pop,left_on='area_name',right_on='region').drop(columns='region')\n",
    "hospcases_weekly['incidence'] = hospcases_weekly['value'] / hospcases_weekly['population']\n",
    "\n",
    "# Get the national mean inicidence to spatially detrend\n",
    "national_mean_total_cases = hospcases_weekly.groupby(['date'])['incidence'].mean().reset_index()\n",
    "national_mean_total_cases.rename(columns={'incidence': 'national_mean_incidence'}, inplace=True)\n",
    "hospcases_weekly = pd.merge(hospcases_weekly, national_mean_total_cases, on='date')\n",
    "hospcases_weekly['detrended'] = hospcases_weekly['incidence'] - hospcases_weekly['national_mean_incidence']\n",
    "# Convert to wide format for ease of future calculations\n",
    "wide_data_hosp_cases = hospcases_weekly.pivot(index='date', columns='area_name', values='detrended')"
   ]
  },
  {
   "cell_type": "code",
   "execution_count": 13,
   "metadata": {},
   "outputs": [],
   "source": [
    "wide_data_hosp_cases.to_csv('Data/wide_hosp_cases.csv')\n",
    "wide_data_hosp_inc.to_csv('Data/wide_hosp_inc.csv')\n",
    "hospcases_weekly.to_csv('Data/long_hosp_cases.csv')\n",
    "hosps_weekly.to_csv('Data/long_hosp_inc.csv')"
   ]
  }
 ],
 "metadata": {
  "kernelspec": {
   "display_name": "mathsysbase",
   "language": "python",
   "name": "python3"
  },
  "language_info": {
   "codemirror_mode": {
    "name": "ipython",
    "version": 3
   },
   "file_extension": ".py",
   "mimetype": "text/x-python",
   "name": "python",
   "nbconvert_exporter": "python",
   "pygments_lexer": "ipython3",
   "version": "3.11.9"
  },
  "orig_nbformat": 4
 },
 "nbformat": 4,
 "nbformat_minor": 2
}
