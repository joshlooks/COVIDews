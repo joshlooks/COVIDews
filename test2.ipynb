{
 "cells": [
  {
   "cell_type": "code",
   "execution_count": null,
   "metadata": {},
   "outputs": [],
   "source": [
    "from scipy.stats import cauchy\n",
    "Always show details\n",
    "\n",
    "Copy code\n",
    "import numpy as np\n",
    "import matplotlib.pyplot as plt\n",
    "from scipy.stats import norm\n",
    "num_samples = 10**6\n",
    "X_samples = np.random.normal(loc=1, scale=1, size=num_samples)\n",
    "Y_samples = np.random.normal(loc=1, scale=1, size=num_samples)\n",
    "\n",
    "# Compute X/Y\n",
    "XY_samples = X_samples / Y_samples\n",
    "\n",
    "# Estimate the PDF of X/Y using a histogram\n",
    "xy_bins = np.linspace(-10, 10, 1000)\n",
    "pdf_xy, edges = np.histogram(XY_samples, bins=xy_bins, density=True)\n",
    "bin_centers = (edges[:-1] + edges[1:]) / 2\n",
    "\n",
    "\n",
    "Z_samples = cauchy.rvs(size=num_samples)\n",
    "Z_plus_1_samples = Z_samples + 1\n",
    "\n",
    "# Estimate the PDF of Z + 1 using a histogram\n",
    "z_bins = np.linspace(-10, 10, 1000)\n",
    "pdf_z_plus_1, edges_z = np.histogram(Z_plus_1_samples, bins=z_bins, density=True)\n",
    "bin_centers_z = (edges_z[:-1] + edges_z[1:]) / 2\n",
    "\n",
    "\n",
    "# Compute 2*Z + 0.5 from the Cauchy distribution samples\n",
    "Z_scaled_shifted_samples = 2 * Z_samples + 0.5\n",
    "\n",
    "# Estimate the PDF of 2*Z + 0.5 using a histogram\n",
    "pdf_z_scaled_shifted, edges_scaled = np.histogram(\n",
    "    Z_scaled_shifted_samples, bins=z_bins, density=True\n",
    ")\n",
    "bin_centers_scaled = (edges_scaled[:-1] + edges_scaled[1:]) / 2\n",
    "\n",
    "# Plot all PDFs\n",
    "plt.figure(figsize=(10, 6))\n",
    "plt.plot(bin_centers, pdf_xy, label=\"PDF of $X/Y$\", color=\"blue\")\n",
    "plt.plot(bin_centers_z, pdf_z_plus_1, label=\"PDF of $Z + 1$\", color=\"red\")\n",
    "plt.plot(\n",
    "    bin_centers_scaled, pdf_z_scaled_shifted, label=\"PDF of $2Z + 0.5$\", color=\"green\"\n",
    ")\n",
    "plt.xlabel(\"Value\")\n",
    "plt.ylabel(\"Probability Density\")\n",
    "plt.title(\"Comparison of PDFs: $X/Y$, $Z+1$, $2Z+0.5$\")\n",
    "plt.grid(True)\n",
    "plt.legend()\n",
    "plt.show()\n"
   ]
  }
 ],
 "metadata": {
  "kernelspec": {
   "display_name": "mathsysbase",
   "language": "python",
   "name": "python3"
  },
  "language_info": {
   "name": "python",
   "version": "3.11.9"
  },
  "orig_nbformat": 4
 },
 "nbformat": 4,
 "nbformat_minor": 2
}
