{
 "cells": [
  {
   "cell_type": "code",
   "execution_count": 1,
   "id": "413edabf",
   "metadata": {},
   "outputs": [],
   "source": [
    "# Import statements\n",
    "import pandas as pd\n",
    "import numpy as np"
   ]
  },
  {
   "cell_type": "code",
   "execution_count": 67,
   "id": "34d43836",
   "metadata": {},
   "outputs": [
    {
     "name": "stdout",
     "output_type": "stream",
     "text": [
      "40476 1140525\n",
      "191    Rutland\n",
      "Name: area_name, dtype: object\n",
      "56    Birmingham\n",
      "Name: area_name, dtype: object\n"
     ]
    }
   ],
   "source": [
    "pop = pd.read_csv('Data/census_estimate.csv')\n",
    "cases21 = pd.read_csv('Data/newCasesPCROnlyBySpecimenDate_ltla_2021.csv')\n",
    "cases21 = cases21[['date','area_code','area_name','value']]\n",
    "pop = pop[pop.area_code.isin(cases21.area_code.unique())]\n",
    "print(pop.population.min(),pop.population.max())\n",
    "print(cases21[cases21.area_code == 'E06000017'].area_name.head(1))\n",
    "print(cases21[cases21.area_code == 'E08000025'].area_name.head(1))"
   ]
  },
  {
   "cell_type": "code",
   "execution_count": 65,
   "id": "8c393601",
   "metadata": {},
   "outputs": [
    {
     "name": "stdout",
     "output_type": "stream",
     "text": [
      "284    Northumberland\n",
      "Name: LAD20NM, dtype: object\n",
      "10    Kensington and Chelsea\n",
      "Name: LAD20NM, dtype: object\n"
     ]
    }
   ],
   "source": [
    "import geopandas as gpd\n",
    "gdf = gpd.read_file('Local_Authority_Districts_(December_2020)_UK_BUC_simplified-shp')\n",
    "gdf = gdf[gdf.LAD20CD.str.startswith('E')]\n",
    "gdf_cases = pd.merge(gdf, cases21, left_on='LAD20CD', right_on='area_code', how='right')\n",
    "print(gdf_cases[gdf_cases.Shape__Are == gdf_cases.Shape__Are.max()].LAD20NM.head(1))\n",
    "print(gdf_cases[gdf_cases.Shape__Are == gdf_cases.Shape__Are.min()].LAD20NM.head(1))"
   ]
  },
  {
   "cell_type": "code",
   "execution_count": 69,
   "id": "b2265aac",
   "metadata": {},
   "outputs": [
    {
     "data": {
      "text/plain": [
       "<Projected CRS: EPSG:27700>\n",
       "Name: OSGB36 / British National Grid\n",
       "Axis Info [cartesian]:\n",
       "- E[east]: Easting (metre)\n",
       "- N[north]: Northing (metre)\n",
       "Area of Use:\n",
       "- name: United Kingdom (UK) - offshore to boundary of UKCS within 49°45'N to 61°N and 9°W to 2°E; onshore Great Britain (England, Wales and Scotland). Isle of Man onshore.\n",
       "- bounds: (-9.01, 49.75, 2.01, 61.01)\n",
       "Coordinate Operation:\n",
       "- name: British National Grid\n",
       "- method: Transverse Mercator\n",
       "Datum: Ordnance Survey of Great Britain 1936\n",
       "- Ellipsoid: Airy 1830\n",
       "- Prime Meridian: Greenwich"
      ]
     },
     "execution_count": 69,
     "metadata": {},
     "output_type": "execute_result"
    }
   ],
   "source": [
    "nhs = gpd.read_file('NHS_England_Regions__April_2020__Boundaries_EN_BUC-shp')\n",
    "nhs.crs"
   ]
  },
  {
   "cell_type": "code",
   "execution_count": null,
   "id": "54303895",
   "metadata": {},
   "outputs": [],
   "source": []
  }
 ],
 "metadata": {
  "kernelspec": {
   "display_name": "mathsysbase",
   "language": "python",
   "name": "python3"
  },
  "language_info": {
   "codemirror_mode": {
    "name": "ipython",
    "version": 3
   },
   "file_extension": ".py",
   "mimetype": "text/x-python",
   "name": "python",
   "nbconvert_exporter": "python",
   "pygments_lexer": "ipython3",
   "version": "3.11.9"
  }
 },
 "nbformat": 4,
 "nbformat_minor": 5
}
