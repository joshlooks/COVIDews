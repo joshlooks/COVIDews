{
 "cells": [
  {
   "cell_type": "code",
   "execution_count": null,
   "metadata": {},
   "outputs": [],
   "source": [
    "import numpy as np"
   ]
  },
  {
   "cell_type": "code",
   "execution_count": null,
   "metadata": {},
   "outputs": [],
   "source": [
    "# Read command line, and input parameters\n",
    "populationN = int(1e6)\n",
    "beta0 = float(1.5)\n",
    "gamma = float(0.5)\n",
    "simType = 'test'\n",
    "realisations = int(500)\n",
    "print(\"parameters (beta, gamma): \", beta0, gamma)\n",
    "\n",
    "# Load other parameters\n",
    "pRate =1/(500)\n",
    "changeTime = 500\n",
    "burnTime = 300\n",
    "print(\"Initial conditions:\", (gamma/beta0)*populationN, (1-gamma/beta0)*populationN)"
   ]
  },
  {
   "cell_type": "code",
   "execution_count": null,
   "metadata": {},
   "outputs": [],
   "source": [
    "def gillespieSteps(gillespieOuput, T, BT):\n",
    "    t = gillespieOuput[0]\n",
    "    s = gillespieOuput[1][:,0]\n",
    "    e = gillespieOuput[1][:,1]\n",
    "    i = gillespieOuput[1][:,2]\n",
    "    stept = []\n",
    "    steps = []\n",
    "    stepe = []\n",
    "    stepi = []\n",
    "    for ind, x in enumerate(t):\n",
    "        if ind<len(t)-1:\n",
    "            steps.append((s[ind], s[ind]))\n",
    "            stepe.append((e[ind], e[ind]))\n",
    "            stepi.append((i[ind], i[ind]))\n",
    "            stept.append((t[ind], t[ind+1]))\n",
    "        else:\n",
    "            steps.append((s[ind], s[ind]))\n",
    "            stepe.append((e[ind], e[ind]))\n",
    "            stepi.append((i[ind], i[ind]))\n",
    "            stept.append((t[ind], t[ind]))\n",
    "            \n",
    "\n",
    "    steps = np.array(steps).flatten()\n",
    "    stepe = np.array(stepe).flatten()\n",
    "    stepi = np.array(stepi).flatten()\n",
    "    stept = np.array(stept).flatten()\n",
    "    return stept, stepe, steps, stepi"
   ]
  },
  {
   "cell_type": "code",
   "execution_count": null,
   "metadata": {},
   "outputs": [],
   "source": [
    "def para(gillespie_algorithm):\n",
    "    gill = gillespie_algorithm(initial = [(gamma/beta0)*populationN,\n",
    "                                           (1-gamma/beta0)*populationN],\n",
    "                                beta0=beta0,\n",
    "                                p=pRate,\n",
    "                                gamma=gamma,\n",
    "                                max_time=changeTime,\n",
    "                                burntime=burnTime)\n",
    "    \n",
    "    # make sure output is discrete increases/decreases (not continuous)\n",
    "    steps = gillespieSteps(gillespieOuput=gill, \n",
    "                           T = changeTime, \n",
    "                           BT = burnTime)\n",
    "    \n",
    "    #linear interpolation\n",
    "    inter_t = np.arange(0, round(max(steps[0]))+1, 0.1) \n",
    "    inter_i = np.interp(inter_t, steps[0],steps[3])\n",
    "    inter_e = np.interp(inter_t, steps[0],steps[2])\n",
    "    inter_s = np.interp(inter_t, steps[0], steps[1])\n",
    "    inter_i = inter_i[:(changeTime+burnTime)*10]\n",
    "    inter_s = inter_s[:(changeTime+burnTime)*10]\n",
    "    inter_NC = steps[3]\n",
    "    return inter_i, inter_s, inter_NC"
   ]
  }
 ],
 "metadata": {
  "kernelspec": {
   "display_name": "mathsysbase",
   "language": "python",
   "name": "python3"
  },
  "language_info": {
   "name": "python",
   "version": "3.11.9"
  },
  "orig_nbformat": 4
 },
 "nbformat": 4,
 "nbformat_minor": 2
}
