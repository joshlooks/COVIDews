{
 "cells": [
  {
   "cell_type": "code",
   "execution_count": 1,
   "metadata": {},
   "outputs": [],
   "source": [
    "# Import statements\n",
    "import pandas as pd\n",
    "import numpy as np\n",
    "from matplotlib import pyplot as plt\n",
    "from statsmodels.tsa.stattools import acf"
   ]
  },
  {
   "cell_type": "code",
   "execution_count": 2,
   "metadata": {},
   "outputs": [],
   "source": [
    "cases20 = pd.read_csv('Data/newCasesPCROnlyBySpecimenDate_ltla_2020.csv')\n",
    "cases20 = cases20[['date','area_code','area_name','value']]"
   ]
  },
  {
   "cell_type": "code",
   "execution_count": 6,
   "metadata": {},
   "outputs": [
    {
     "data": {
      "text/html": [
       "<div>\n",
       "<style scoped>\n",
       "    .dataframe tbody tr th:only-of-type {\n",
       "        vertical-align: middle;\n",
       "    }\n",
       "\n",
       "    .dataframe tbody tr th {\n",
       "        vertical-align: top;\n",
       "    }\n",
       "\n",
       "    .dataframe thead th {\n",
       "        text-align: right;\n",
       "    }\n",
       "</style>\n",
       "<table border=\"1\" class=\"dataframe\">\n",
       "  <thead>\n",
       "    <tr style=\"text-align: right;\">\n",
       "      <th></th>\n",
       "      <th>date</th>\n",
       "      <th>area_code</th>\n",
       "      <th>area_name</th>\n",
       "      <th>value</th>\n",
       "    </tr>\n",
       "  </thead>\n",
       "  <tbody>\n",
       "    <tr>\n",
       "      <th>161</th>\n",
       "      <td>2020-06-01</td>\n",
       "      <td>E06000014</td>\n",
       "      <td>York</td>\n",
       "      <td>3.0</td>\n",
       "    </tr>\n",
       "    <tr>\n",
       "      <th>495</th>\n",
       "      <td>2020-06-02</td>\n",
       "      <td>E06000014</td>\n",
       "      <td>York</td>\n",
       "      <td>7.0</td>\n",
       "    </tr>\n",
       "    <tr>\n",
       "      <th>802</th>\n",
       "      <td>2020-06-03</td>\n",
       "      <td>E06000014</td>\n",
       "      <td>York</td>\n",
       "      <td>2.0</td>\n",
       "    </tr>\n",
       "    <tr>\n",
       "      <th>1011</th>\n",
       "      <td>2020-06-04</td>\n",
       "      <td>E06000014</td>\n",
       "      <td>York</td>\n",
       "      <td>1.0</td>\n",
       "    </tr>\n",
       "    <tr>\n",
       "      <th>1403</th>\n",
       "      <td>2020-06-05</td>\n",
       "      <td>E06000014</td>\n",
       "      <td>York</td>\n",
       "      <td>3.0</td>\n",
       "    </tr>\n",
       "    <tr>\n",
       "      <th>...</th>\n",
       "      <td>...</td>\n",
       "      <td>...</td>\n",
       "      <td>...</td>\n",
       "      <td>...</td>\n",
       "    </tr>\n",
       "    <tr>\n",
       "      <th>56212</th>\n",
       "      <td>2020-12-27</td>\n",
       "      <td>E06000014</td>\n",
       "      <td>York</td>\n",
       "      <td>128.0</td>\n",
       "    </tr>\n",
       "    <tr>\n",
       "      <th>56551</th>\n",
       "      <td>2020-12-28</td>\n",
       "      <td>E06000014</td>\n",
       "      <td>York</td>\n",
       "      <td>133.0</td>\n",
       "    </tr>\n",
       "    <tr>\n",
       "      <th>56756</th>\n",
       "      <td>2020-12-29</td>\n",
       "      <td>E06000014</td>\n",
       "      <td>York</td>\n",
       "      <td>220.0</td>\n",
       "    </tr>\n",
       "    <tr>\n",
       "      <th>57102</th>\n",
       "      <td>2020-12-30</td>\n",
       "      <td>E06000014</td>\n",
       "      <td>York</td>\n",
       "      <td>186.0</td>\n",
       "    </tr>\n",
       "    <tr>\n",
       "      <th>57397</th>\n",
       "      <td>2020-12-31</td>\n",
       "      <td>E06000014</td>\n",
       "      <td>York</td>\n",
       "      <td>155.0</td>\n",
       "    </tr>\n",
       "  </tbody>\n",
       "</table>\n",
       "<p>183 rows × 4 columns</p>\n",
       "</div>"
      ],
      "text/plain": [
       "             date  area_code area_name  value\n",
       "161    2020-06-01  E06000014      York    3.0\n",
       "495    2020-06-02  E06000014      York    7.0\n",
       "802    2020-06-03  E06000014      York    2.0\n",
       "1011   2020-06-04  E06000014      York    1.0\n",
       "1403   2020-06-05  E06000014      York    3.0\n",
       "...           ...        ...       ...    ...\n",
       "56212  2020-12-27  E06000014      York  128.0\n",
       "56551  2020-12-28  E06000014      York  133.0\n",
       "56756  2020-12-29  E06000014      York  220.0\n",
       "57102  2020-12-30  E06000014      York  186.0\n",
       "57397  2020-12-31  E06000014      York  155.0\n",
       "\n",
       "[183 rows x 4 columns]"
      ]
     },
     "execution_count": 6,
     "metadata": {},
     "output_type": "execute_result"
    }
   ],
   "source": [
    "cases20[cases20['area_name']=='York']"
   ]
  },
  {
   "cell_type": "code",
   "execution_count": 3,
   "metadata": {},
   "outputs": [],
   "source": [
    "ltlacovid = np.unique(cases20['area_name'])"
   ]
  },
  {
   "cell_type": "code",
   "execution_count": 4,
   "metadata": {},
   "outputs": [],
   "source": [
    "lad19 = pd.read_csv('Data/England_LTLA_NHSER.csv')\n",
    "# ltlalad = np.unique(lad19['LAD19NM'])"
   ]
  },
  {
   "cell_type": "code",
   "execution_count": 8,
   "metadata": {},
   "outputs": [
    {
     "data": {
      "text/plain": [
       "array(['Adur', 'Allerdale', 'Amber Valley', 'Arun', 'Ashfield', 'Ashford',\n",
       "       'Babergh', 'Barking and Dagenham', 'Barnet', 'Barnsley',\n",
       "       'Barrow-in-Furness', 'Basildon', 'Basingstoke and Deane',\n",
       "       'Bassetlaw', 'Bath and North East Somerset', 'Bedford', 'Bexley',\n",
       "       'Birmingham', 'Blaby', 'Blackburn with Darwen', 'Blackpool',\n",
       "       'Bolsover', 'Bolton', 'Boston',\n",
       "       'Bournemouth, Christchurch and Poole', 'Bracknell Forest',\n",
       "       'Bradford', 'Braintree', 'Breckland', 'Brent', 'Brentwood',\n",
       "       'Brighton and Hove', 'Bristol, City of', 'Broadland', 'Bromley',\n",
       "       'Bromsgrove', 'Broxbourne', 'Broxtowe', 'Buckinghamshire',\n",
       "       'Burnley', 'Bury', 'Calderdale', 'Cambridge', 'Camden',\n",
       "       'Cannock Chase', 'Canterbury', 'Carlisle', 'Castle Point',\n",
       "       'Central Bedfordshire', 'Charnwood', 'Chelmsford', 'Cheltenham',\n",
       "       'Cherwell', 'Cheshire East', 'Cheshire West and Chester',\n",
       "       'Chesterfield', 'Chichester', 'Chorley', 'City of London',\n",
       "       'Colchester', 'Copeland', 'Corby', 'Cornwall', 'Cotswold',\n",
       "       'County Durham', 'Coventry', 'Craven', 'Crawley', 'Croydon',\n",
       "       'Dacorum', 'Darlington', 'Dartford', 'Daventry', 'Derby',\n",
       "       'Derbyshire Dales', 'Doncaster', 'Dorset', 'Dover', 'Dudley',\n",
       "       'Ealing', 'East Cambridgeshire', 'East Devon', 'East Hampshire',\n",
       "       'East Hertfordshire', 'East Lindsey', 'East Northamptonshire',\n",
       "       'East Riding of Yorkshire', 'East Staffordshire', 'East Suffolk',\n",
       "       'Eastbourne', 'Eastleigh', 'Eden', 'Elmbridge', 'Enfield',\n",
       "       'Epping Forest', 'Epsom and Ewell', 'Erewash', 'Exeter', 'Fareham',\n",
       "       'Fenland', 'Folkestone and Hythe', 'Forest of Dean', 'Fylde',\n",
       "       'Gateshead', 'Gedling', 'Gloucester', 'Gosport', 'Gravesham',\n",
       "       'Great Yarmouth', 'Greenwich', 'Guildford', 'Hackney', 'Halton',\n",
       "       'Hambleton', 'Hammersmith and Fulham', 'Harborough', 'Haringey',\n",
       "       'Harlow', 'Harrogate', 'Harrow', 'Hart', 'Hartlepool', 'Hastings',\n",
       "       'Havant', 'Havering', 'Herefordshire, County of', 'Hertsmere',\n",
       "       'High Peak', 'Hillingdon', 'Hinckley and Bosworth', 'Horsham',\n",
       "       'Hounslow', 'Huntingdonshire', 'Hyndburn', 'Ipswich',\n",
       "       'Isle of Wight', 'Isles of Scilly', 'Islington',\n",
       "       'Kensington and Chelsea', 'Kettering',\n",
       "       \"King's Lynn and West Norfolk\", 'Kingston upon Hull, City of',\n",
       "       'Kingston upon Thames', 'Kirklees', 'Knowsley', 'Lambeth',\n",
       "       'Lancaster', 'Leeds', 'Leicester', 'Lewes', 'Lewisham',\n",
       "       'Lichfield', 'Lincoln', 'Liverpool', 'Luton', 'Maidstone',\n",
       "       'Maldon', 'Malvern Hills', 'Manchester', 'Mansfield', 'Medway',\n",
       "       'Melton', 'Mendip', 'Merton', 'Mid Devon', 'Mid Suffolk',\n",
       "       'Mid Sussex', 'Middlesbrough', 'Milton Keynes', 'Mole Valley',\n",
       "       'New Forest', 'Newark and Sherwood', 'Newcastle upon Tyne',\n",
       "       'Newcastle-under-Lyme', 'Newham', 'North Devon',\n",
       "       'North East Derbyshire', 'North East Lincolnshire',\n",
       "       'North Hertfordshire', 'North Kesteven', 'North Lincolnshire',\n",
       "       'North Norfolk', 'North Somerset', 'North Tyneside',\n",
       "       'North Warwickshire', 'North West Leicestershire', 'Northampton',\n",
       "       'Northumberland', 'Norwich', 'Nottingham', 'Nuneaton and Bedworth',\n",
       "       'Oadby and Wigston', 'Oldham', 'Oxford', 'Pendle', 'Peterborough',\n",
       "       'Plymouth', 'Portsmouth', 'Preston', 'Reading', 'Redbridge',\n",
       "       'Redcar and Cleveland', 'Redditch', 'Reigate and Banstead',\n",
       "       'Ribble Valley', 'Richmond upon Thames', 'Richmondshire',\n",
       "       'Rochdale', 'Rochford', 'Rossendale', 'Rother', 'Rotherham',\n",
       "       'Rugby', 'Runnymede', 'Rushcliffe', 'Rushmoor', 'Rutland',\n",
       "       'Ryedale', 'Salford', 'Sandwell', 'Scarborough', 'Sedgemoor',\n",
       "       'Sefton', 'Selby', 'Sevenoaks', 'Sheffield', 'Shropshire',\n",
       "       'Slough', 'Solihull', 'Somerset West and Taunton',\n",
       "       'South Cambridgeshire', 'South Derbyshire',\n",
       "       'South Gloucestershire', 'South Hams', 'South Holland',\n",
       "       'South Kesteven', 'South Lakeland', 'South Norfolk',\n",
       "       'South Northamptonshire', 'South Oxfordshire', 'South Ribble',\n",
       "       'South Somerset', 'South Staffordshire', 'South Tyneside',\n",
       "       'Southampton', 'Southend-on-Sea', 'Southwark', 'Spelthorne',\n",
       "       'St Albans', 'St. Helens', 'Stafford', 'Staffordshire Moorlands',\n",
       "       'Stevenage', 'Stockport', 'Stockton-on-Tees', 'Stoke-on-Trent',\n",
       "       'Stratford-on-Avon', 'Stroud', 'Sunderland', 'Surrey Heath',\n",
       "       'Sutton', 'Swale', 'Swindon', 'Tameside', 'Tamworth', 'Tandridge',\n",
       "       'Teignbridge', 'Telford and Wrekin', 'Tendring', 'Test Valley',\n",
       "       'Tewkesbury', 'Thanet', 'Three Rivers', 'Thurrock',\n",
       "       'Tonbridge and Malling', 'Torbay', 'Torridge', 'Tower Hamlets',\n",
       "       'Trafford', 'Tunbridge Wells', 'Uttlesford', 'Vale of White Horse',\n",
       "       'Wakefield', 'Walsall', 'Waltham Forest', 'Wandsworth',\n",
       "       'Warrington', 'Warwick', 'Watford', 'Waverley', 'Wealden',\n",
       "       'Wellingborough', 'Welwyn Hatfield', 'West Berkshire',\n",
       "       'West Devon', 'West Lancashire', 'West Lindsey',\n",
       "       'West Oxfordshire', 'West Suffolk', 'Westminster', 'Wigan',\n",
       "       'Wiltshire', 'Winchester', 'Windsor and Maidenhead', 'Wirral',\n",
       "       'Woking', 'Wokingham', 'Wolverhampton', 'Worcester', 'Worthing',\n",
       "       'Wychavon', 'Wyre', 'Wyre Forest', 'York'], dtype=object)"
      ]
     },
     "execution_count": 8,
     "metadata": {},
     "output_type": "execute_result"
    }
   ],
   "source": [
    "nhsltlas = np.unique(lad19['LTLA_name'])\n",
    "nhsltlas"
   ]
  },
  {
   "cell_type": "code",
   "execution_count": 9,
   "metadata": {},
   "outputs": [
    {
     "data": {
      "text/plain": [
       "{'Buckinghamshire', 'City of London', 'Cornwall', 'Hackney', 'Isles of Scilly'}"
      ]
     },
     "execution_count": 9,
     "metadata": {},
     "output_type": "execute_result"
    }
   ],
   "source": [
    "set(nhsltlas) - set(ltlacovid)"
   ]
  },
  {
   "cell_type": "code",
   "execution_count": 17,
   "metadata": {},
   "outputs": [
    {
     "data": {
      "text/html": [
       "<div>\n",
       "<style scoped>\n",
       "    .dataframe tbody tr th:only-of-type {\n",
       "        vertical-align: middle;\n",
       "    }\n",
       "\n",
       "    .dataframe tbody tr th {\n",
       "        vertical-align: top;\n",
       "    }\n",
       "\n",
       "    .dataframe thead th {\n",
       "        text-align: right;\n",
       "    }\n",
       "</style>\n",
       "<table border=\"1\" class=\"dataframe\">\n",
       "  <thead>\n",
       "    <tr style=\"text-align: right;\">\n",
       "      <th></th>\n",
       "      <th>Unnamed: 0</th>\n",
       "      <th>LTLA_code</th>\n",
       "      <th>LTLA_name</th>\n",
       "      <th>NHSER_code</th>\n",
       "      <th>NHSER_name</th>\n",
       "      <th>idNHSER</th>\n",
       "      <th>combinedPop_allAges</th>\n",
       "    </tr>\n",
       "  </thead>\n",
       "  <tbody>\n",
       "    <tr>\n",
       "      <th>281</th>\n",
       "      <td>282</td>\n",
       "      <td>E09000001</td>\n",
       "      <td>City of London</td>\n",
       "      <td>E40000003</td>\n",
       "      <td>London</td>\n",
       "      <td>1</td>\n",
       "      <td>8776.4</td>\n",
       "    </tr>\n",
       "  </tbody>\n",
       "</table>\n",
       "</div>"
      ],
      "text/plain": [
       "     Unnamed: 0  LTLA_code       LTLA_name NHSER_code NHSER_name  idNHSER  \\\n",
       "281         282  E09000001  City of London  E40000003     London        1   \n",
       "\n",
       "     combinedPop_allAges  \n",
       "281               8776.4  "
      ]
     },
     "execution_count": 17,
     "metadata": {},
     "output_type": "execute_result"
    }
   ],
   "source": [
    "lad19[lad19['LTLA_name']=='City of London']"
   ]
  },
  {
   "cell_type": "code",
   "execution_count": 13,
   "metadata": {},
   "outputs": [
    {
     "data": {
      "text/html": [
       "<div>\n",
       "<style scoped>\n",
       "    .dataframe tbody tr th:only-of-type {\n",
       "        vertical-align: middle;\n",
       "    }\n",
       "\n",
       "    .dataframe tbody tr th {\n",
       "        vertical-align: top;\n",
       "    }\n",
       "\n",
       "    .dataframe thead th {\n",
       "        text-align: right;\n",
       "    }\n",
       "</style>\n",
       "<table border=\"1\" class=\"dataframe\">\n",
       "  <thead>\n",
       "    <tr style=\"text-align: right;\">\n",
       "      <th></th>\n",
       "      <th>Unnamed: 0</th>\n",
       "      <th>LTLA_code</th>\n",
       "      <th>LTLA_name</th>\n",
       "      <th>NHSER_code</th>\n",
       "      <th>NHSER_name</th>\n",
       "      <th>idNHSER</th>\n",
       "      <th>combinedPop_allAges</th>\n",
       "    </tr>\n",
       "  </thead>\n",
       "  <tbody>\n",
       "    <tr>\n",
       "      <th>49</th>\n",
       "      <td>50</td>\n",
       "      <td>E06000053</td>\n",
       "      <td>Isles of Scilly</td>\n",
       "      <td>E40000006</td>\n",
       "      <td>South West</td>\n",
       "      <td>3</td>\n",
       "      <td>1998.9</td>\n",
       "    </tr>\n",
       "  </tbody>\n",
       "</table>\n",
       "</div>"
      ],
      "text/plain": [
       "    Unnamed: 0  LTLA_code        LTLA_name NHSER_code  NHSER_name  idNHSER  \\\n",
       "49          50  E06000053  Isles of Scilly  E40000006  South West        3   \n",
       "\n",
       "    combinedPop_allAges  \n",
       "49               1998.9  "
      ]
     },
     "execution_count": 13,
     "metadata": {},
     "output_type": "execute_result"
    }
   ],
   "source": [
    "lad19[lad19['LTLA_name']=='Isles of Scilly']"
   ]
  },
  {
   "cell_type": "code",
   "execution_count": 16,
   "metadata": {},
   "outputs": [
    {
     "data": {
      "text/html": [
       "<div>\n",
       "<style scoped>\n",
       "    .dataframe tbody tr th:only-of-type {\n",
       "        vertical-align: middle;\n",
       "    }\n",
       "\n",
       "    .dataframe tbody tr th {\n",
       "        vertical-align: top;\n",
       "    }\n",
       "\n",
       "    .dataframe thead th {\n",
       "        text-align: right;\n",
       "    }\n",
       "</style>\n",
       "<table border=\"1\" class=\"dataframe\">\n",
       "  <thead>\n",
       "    <tr style=\"text-align: right;\">\n",
       "      <th></th>\n",
       "      <th>Unnamed: 0</th>\n",
       "      <th>LTLA_code</th>\n",
       "      <th>LTLA_name</th>\n",
       "      <th>NHSER_code</th>\n",
       "      <th>NHSER_name</th>\n",
       "      <th>idNHSER</th>\n",
       "      <th>combinedPop_allAges</th>\n",
       "    </tr>\n",
       "  </thead>\n",
       "  <tbody>\n",
       "    <tr>\n",
       "      <th>56</th>\n",
       "      <td>57</td>\n",
       "      <td>E06000060</td>\n",
       "      <td>Buckinghamshire</td>\n",
       "      <td>E40000005</td>\n",
       "      <td>South East</td>\n",
       "      <td>2</td>\n",
       "      <td>553100.0</td>\n",
       "    </tr>\n",
       "  </tbody>\n",
       "</table>\n",
       "</div>"
      ],
      "text/plain": [
       "    Unnamed: 0  LTLA_code        LTLA_name NHSER_code  NHSER_name  idNHSER  \\\n",
       "56          57  E06000060  Buckinghamshire  E40000005  South East        2   \n",
       "\n",
       "    combinedPop_allAges  \n",
       "56             553100.0  "
      ]
     },
     "execution_count": 16,
     "metadata": {},
     "output_type": "execute_result"
    }
   ],
   "source": [
    "lad19[lad19['LTLA_name']=='Buckinghamshire']"
   ]
  },
  {
   "cell_type": "code",
   "execution_count": 10,
   "metadata": {},
   "outputs": [
    {
     "data": {
      "text/plain": [
       "{'Aylesbury Vale',\n",
       " 'Chiltern',\n",
       " 'Cornwall and Isles of Scilly',\n",
       " 'Hackney and City of London',\n",
       " 'South Bucks',\n",
       " 'Wycombe'}"
      ]
     },
     "execution_count": 10,
     "metadata": {},
     "output_type": "execute_result"
    }
   ],
   "source": [
    "set(ltlacovid) - set(nhsltlas)"
   ]
  },
  {
   "cell_type": "code",
   "execution_count": 6,
   "metadata": {},
   "outputs": [
    {
     "data": {
      "text/plain": [
       "array(['Adur', 'Allerdale', 'Amber Valley', 'Arun', 'Ashfield', 'Ashford',\n",
       "       'Aylesbury Vale', 'Babergh', 'Barking and Dagenham', 'Barnet',\n",
       "       'Barnsley', 'Barrow-in-Furness', 'Basildon',\n",
       "       'Basingstoke and Deane', 'Bassetlaw',\n",
       "       'Bath and North East Somerset', 'Bedford', 'Bexley', 'Birmingham',\n",
       "       'Blaby', 'Blackburn with Darwen', 'Blackpool', 'Bolsover',\n",
       "       'Bolton', 'Boston', 'Bournemouth, Christchurch and Poole',\n",
       "       'Bracknell Forest', 'Bradford', 'Braintree', 'Breckland', 'Brent',\n",
       "       'Brentwood', 'Brighton and Hove', 'Bristol, City of', 'Broadland',\n",
       "       'Bromley', 'Bromsgrove', 'Broxbourne', 'Broxtowe', 'Burnley',\n",
       "       'Bury', 'Calderdale', 'Cambridge', 'Camden', 'Cannock Chase',\n",
       "       'Canterbury', 'Carlisle', 'Castle Point', 'Central Bedfordshire',\n",
       "       'Charnwood', 'Chelmsford', 'Cheltenham', 'Cherwell',\n",
       "       'Cheshire East', 'Cheshire West and Chester', 'Chesterfield',\n",
       "       'Chichester', 'Chiltern', 'Chorley', 'Colchester', 'Copeland',\n",
       "       'Corby', 'Cornwall and Isles of Scilly', 'Cotswold',\n",
       "       'County Durham', 'Coventry', 'Craven', 'Crawley', 'Croydon',\n",
       "       'Dacorum', 'Darlington', 'Dartford', 'Daventry', 'Derby',\n",
       "       'Derbyshire Dales', 'Doncaster', 'Dorset', 'Dover', 'Dudley',\n",
       "       'Ealing', 'East Cambridgeshire', 'East Devon', 'East Hampshire',\n",
       "       'East Hertfordshire', 'East Lindsey', 'East Northamptonshire',\n",
       "       'East Riding of Yorkshire', 'East Staffordshire', 'East Suffolk',\n",
       "       'Eastbourne', 'Eastleigh', 'Eden', 'Elmbridge', 'Enfield',\n",
       "       'Epping Forest', 'Epsom and Ewell', 'Erewash', 'Exeter', 'Fareham',\n",
       "       'Fenland', 'Folkestone and Hythe', 'Forest of Dean', 'Fylde',\n",
       "       'Gateshead', 'Gedling', 'Gloucester', 'Gosport', 'Gravesham',\n",
       "       'Great Yarmouth', 'Greenwich', 'Guildford',\n",
       "       'Hackney and City of London', 'Halton', 'Hambleton',\n",
       "       'Hammersmith and Fulham', 'Harborough', 'Haringey', 'Harlow',\n",
       "       'Harrogate', 'Harrow', 'Hart', 'Hartlepool', 'Hastings', 'Havant',\n",
       "       'Havering', 'Herefordshire, County of', 'Hertsmere', 'High Peak',\n",
       "       'Hillingdon', 'Hinckley and Bosworth', 'Horsham', 'Hounslow',\n",
       "       'Huntingdonshire', 'Hyndburn', 'Ipswich', 'Isle of Wight',\n",
       "       'Islington', 'Kensington and Chelsea', 'Kettering',\n",
       "       \"King's Lynn and West Norfolk\", 'Kingston upon Hull, City of',\n",
       "       'Kingston upon Thames', 'Kirklees', 'Knowsley', 'Lambeth',\n",
       "       'Lancaster', 'Leeds', 'Leicester', 'Lewes', 'Lewisham',\n",
       "       'Lichfield', 'Lincoln', 'Liverpool', 'Luton', 'Maidstone',\n",
       "       'Maldon', 'Malvern Hills', 'Manchester', 'Mansfield', 'Medway',\n",
       "       'Melton', 'Mendip', 'Merton', 'Mid Devon', 'Mid Suffolk',\n",
       "       'Mid Sussex', 'Middlesbrough', 'Milton Keynes', 'Mole Valley',\n",
       "       'New Forest', 'Newark and Sherwood', 'Newcastle upon Tyne',\n",
       "       'Newcastle-under-Lyme', 'Newham', 'North Devon',\n",
       "       'North East Derbyshire', 'North East Lincolnshire',\n",
       "       'North Hertfordshire', 'North Kesteven', 'North Lincolnshire',\n",
       "       'North Norfolk', 'North Somerset', 'North Tyneside',\n",
       "       'North Warwickshire', 'North West Leicestershire', 'Northampton',\n",
       "       'Northumberland', 'Norwich', 'Nottingham', 'Nuneaton and Bedworth',\n",
       "       'Oadby and Wigston', 'Oldham', 'Oxford', 'Pendle', 'Peterborough',\n",
       "       'Plymouth', 'Portsmouth', 'Preston', 'Reading', 'Redbridge',\n",
       "       'Redcar and Cleveland', 'Redditch', 'Reigate and Banstead',\n",
       "       'Ribble Valley', 'Richmond upon Thames', 'Richmondshire',\n",
       "       'Rochdale', 'Rochford', 'Rossendale', 'Rother', 'Rotherham',\n",
       "       'Rugby', 'Runnymede', 'Rushcliffe', 'Rushmoor', 'Rutland',\n",
       "       'Ryedale', 'Salford', 'Sandwell', 'Scarborough', 'Sedgemoor',\n",
       "       'Sefton', 'Selby', 'Sevenoaks', 'Sheffield', 'Shropshire',\n",
       "       'Slough', 'Solihull', 'Somerset West and Taunton', 'South Bucks',\n",
       "       'South Cambridgeshire', 'South Derbyshire',\n",
       "       'South Gloucestershire', 'South Hams', 'South Holland',\n",
       "       'South Kesteven', 'South Lakeland', 'South Norfolk',\n",
       "       'South Northamptonshire', 'South Oxfordshire', 'South Ribble',\n",
       "       'South Somerset', 'South Staffordshire', 'South Tyneside',\n",
       "       'Southampton', 'Southend-on-Sea', 'Southwark', 'Spelthorne',\n",
       "       'St Albans', 'St. Helens', 'Stafford', 'Staffordshire Moorlands',\n",
       "       'Stevenage', 'Stockport', 'Stockton-on-Tees', 'Stoke-on-Trent',\n",
       "       'Stratford-on-Avon', 'Stroud', 'Sunderland', 'Surrey Heath',\n",
       "       'Sutton', 'Swale', 'Swindon', 'Tameside', 'Tamworth', 'Tandridge',\n",
       "       'Teignbridge', 'Telford and Wrekin', 'Tendring', 'Test Valley',\n",
       "       'Tewkesbury', 'Thanet', 'Three Rivers', 'Thurrock',\n",
       "       'Tonbridge and Malling', 'Torbay', 'Torridge', 'Tower Hamlets',\n",
       "       'Trafford', 'Tunbridge Wells', 'Uttlesford', 'Vale of White Horse',\n",
       "       'Wakefield', 'Walsall', 'Waltham Forest', 'Wandsworth',\n",
       "       'Warrington', 'Warwick', 'Watford', 'Waverley', 'Wealden',\n",
       "       'Wellingborough', 'Welwyn Hatfield', 'West Berkshire',\n",
       "       'West Devon', 'West Lancashire', 'West Lindsey',\n",
       "       'West Oxfordshire', 'West Suffolk', 'Westminster', 'Wigan',\n",
       "       'Wiltshire', 'Winchester', 'Windsor and Maidenhead', 'Wirral',\n",
       "       'Woking', 'Wokingham', 'Wolverhampton', 'Worcester', 'Worthing',\n",
       "       'Wychavon', 'Wycombe', 'Wyre', 'Wyre Forest', 'York'], dtype=object)"
      ]
     },
     "execution_count": 6,
     "metadata": {},
     "output_type": "execute_result"
    }
   ],
   "source": [
    "ltlacovid"
   ]
  },
  {
   "cell_type": "code",
   "execution_count": 34,
   "metadata": {},
   "outputs": [],
   "source": [
    "# Convert to wide format for ease of future calculations\n",
    "wide_data_total = weekly_counts_total.pivot(index='date', columns='area_name', values='detrended')\n",
    "wide_data_incidence = weekly_counts_total.pivot(index='date', columns='area_name', values='incidence')"
   ]
  }
 ],
 "metadata": {
  "kernelspec": {
   "display_name": "mathsysbase",
   "language": "python",
   "name": "python3"
  },
  "language_info": {
   "codemirror_mode": {
    "name": "ipython",
    "version": 3
   },
   "file_extension": ".py",
   "mimetype": "text/x-python",
   "name": "python",
   "nbconvert_exporter": "python",
   "pygments_lexer": "ipython3",
   "version": "3.11.9"
  },
  "orig_nbformat": 4
 },
 "nbformat": 4,
 "nbformat_minor": 2
}
